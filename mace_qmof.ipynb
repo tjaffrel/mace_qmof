{
 "cells": [
  {
   "cell_type": "code",
   "execution_count": 1,
   "metadata": {},
   "outputs": [],
   "source": [
    "from __future__ import annotations\n",
    "from pymatgen.core import Structure\n",
    "\n",
    "from zeopp_mace_wf import MofDiscovery\n",
    "from glob import glob\n",
    "import json\n",
    "import subprocess\n",
    "from atomate2.ase.jobs import AseRelaxMaker, StoreTrajectoryOption, AseResult\n",
    "from pymatgen.io.ase import AseAtomsAdaptor\n",
    "from pymatgen.core import Structure, Molecule\n",
    "from typing import Union, List, Dict\n",
    "from jobflow import run_locally, Response\n",
    "from dataclasses import dataclass, field\n",
    "from jobflow import Maker, job\n",
    "import json\n",
    "\n",
    "from mace_mof_opt import MACEMofStaticMaker\n",
    "from contextlib import redirect_stdout, redirect_stderr\n",
    "from io import StringIO\n",
    "import matplotlib.pyplot as plt\n",
    "import numpy as np\n",
    "from tqdm import tqdm\n",
    "import pandas as pd\n",
    "import plotly.graph_objects as go\n",
    "import plotly.io as pio\n",
    "\n",
    "from pymatviz import ptable_heatmap, ptable_heatmap_plotly\n",
    "from pymatviz.enums import Key\n",
    "\n",
    "from concurrent.futures import ThreadPoolExecutor, as_completed\n",
    "from tqdm import tqdm\n",
    "from multiprocessing import Pool, cpu_count\n",
    "from concurrent.futures import ProcessPoolExecutor, TimeoutError, as_completed\n",
    "from scipy.stats import gaussian_kde\n",
    "from pymatgen.core import Element\n"
   ]
  },
  {
   "cell_type": "code",
   "execution_count": null,
   "metadata": {},
   "outputs": [],
   "source": [
    "with open('/path/to/qmof_database/qmof.json') as f:\n",
    "    qmof = json.load(f)\n",
    "import pandas as pd\n",
    "qmof_props = pd.json_normalize(qmof).set_index('qmof_id')"
   ]
  },
  {
   "cell_type": "code",
   "execution_count": 3,
   "metadata": {},
   "outputs": [],
   "source": [
    "with open('qmof_mace_mof_results.json', 'r') as f:\n",
    "    dict_ = json.load(f)\n",
    "with open('filtered_qmof_structures_mace.json', 'r') as f:\n",
    "    qmof_struct_completed = json.load(f)"
   ]
  },
  {
   "cell_type": "code",
   "execution_count": 4,
   "metadata": {},
   "outputs": [],
   "source": [
    "e0s =  {1: -1.11734008, 2: 0.00096759, 3: -0.29754725, 4: -0.01781697, 5: -0.26885011, 6: -1.26173507,\n",
    "        7: -3.12438806, 8: -1.54838784, 9: -0.51882044, 10: -0.01241601, 11: -0.22883163, 12: -0.00951015, 13: -0.21630193, \n",
    "       14: -0.8263903, 15: -1.88816619, 16: -0.89160769, 17: -0.25828273, 18: -0.04925973, 19: -0.22697913, 20: -0.0927795, \n",
    "       21: -2.11396364, 22: -2.50054871, 23: -3.70477179, 24: -5.60261985, 25: -5.32541181, 26: -3.52004933, 27: -1.93555024, \n",
    "       28: -0.9351969, 29: -0.60025846, 30: -0.1651332, 31: -0.32990651, 32: -0.77971828, 33: -1.68367812, 34: -0.76941032, 35: -0.22213843,\n",
    "       36: -0.0335879, 37: -0.1881724, 38: -0.06826294, 39: -2.17084228, 40: -2.28579303, 41: -3.13429753, 42: -4.60211419,\n",
    "       43: -3.45201492, 44: -2.38073513, 45: -1.46855515, 46: -1.4773126, 47: -0.33954585, 48: -0.16843877, 49: -0.35470981,\n",
    "       50: -0.83642657, 51: -1.41101987, 52: -0.65740879, 53: -0.18964571, 54: -0.00857582, 55: -0.13771876, 56: -0.03457659,\n",
    "       57: -0.45580806, 58: -1.3309175, 59: -0.29671824, 60: -0.30391193, 61: -0.30898427, 62: -0.25470891, 63: -8.38001538,\n",
    "       64: -10.38896525, 65: -0.3059505, 66: -0.30676216, 67: -0.30874667, 68: -0.31610927, 69: -0.25190039, 70: -0.06431414,\n",
    "       71: -0.31997586, 72: -3.52770927, 73: -3.54492209, 74: -4.65658356, 75: -4.70108713, 76: -2.88257209, 77: -1.46779304,\n",
    "       78: -0.50269936, 79: -0.28801193, 80: -0.12454674, 81: -0.31737194, 82: -0.77644932, 83: -1.32627283, 89: -0.26827152,\n",
    "       90: -0.90817426, 91: -2.47653193, 92: -4.90438537, 93: -7.63378961, 94: -10.77237713}\n",
    "\n",
    "e0s = {Element.from_Z(atomic_num).symbol: (energy, energy) for atomic_num, energy in e0s.items()}"
   ]
  },
  {
   "cell_type": "code",
   "execution_count": 5,
   "metadata": {},
   "outputs": [],
   "source": [
    "models = [\"macemp0b_small\", \"macemp0b_medium\", \"macemp0b_large\", \"pbe_energy\"] \n",
    "dict_diff_models = {\"diff_macemp0b_small_macemp0b_large\": [\"macemp0b_small\", \"macemp0b_large\"]} \n",
    "custom_map_title_name = {\n",
    "    \"macemp0b_small\": \"MACE-MP0b small\",\n",
    "    \"macemp0b_medium\": \"MACE-MP0b medium\",\n",
    "    \"macemp0b_large\": \"MACE-MP0b large\",\n",
    "    \"diff_macemp0b_small_macemp0b_large\": \"MACE-MP0b small vs large\"\n",
    "}"
   ]
  },
  {
   "cell_type": "code",
   "execution_count": null,
   "metadata": {},
   "outputs": [],
   "source": [
    "from ptable_heatmap_mace import QMOFAnalyzer\n",
    "analyzer = QMOFAnalyzer(qmof_struct_completed, dict_, e0s, models=models)\n",
    "analyzer.calculate_errors()\n",
    "analyzer.compute_mae()"
   ]
  },
  {
   "cell_type": "markdown",
   "metadata": {},
   "source": [
    "Periodic Table HeatMap"
   ]
  },
  {
   "cell_type": "code",
   "execution_count": null,
   "metadata": {},
   "outputs": [],
   "source": [
    "analyzer.generate_heatmap_data(dict_diff_models=dict_diff_models)\n",
    "analyzer.plot_heatmap(dict_diff_models=dict_diff_models, map_title_name=custom_map_title_name)"
   ]
  },
  {
   "cell_type": "markdown",
   "metadata": {},
   "source": [
    "Scatter plot Model and PBE"
   ]
  },
  {
   "cell_type": "code",
   "execution_count": null,
   "metadata": {},
   "outputs": [],
   "source": [
    "analyzer.scatter_plot(map_title_name=custom_map_title_name)"
   ]
  },
  {
   "cell_type": "markdown",
   "metadata": {},
   "source": [
    "Display MOF topology regarding MAE of Energy per atom"
   ]
  },
  {
   "cell_type": "code",
   "execution_count": null,
   "metadata": {},
   "outputs": [],
   "source": [
    "df = analyzer.display_dict_atomic()\n",
    "df2 = df.set_index('qmof_id')\n",
    "\n",
    "merged_df = df2.join(qmof_props, on=\"qmof_id\")\n",
    "merged_df = merged_df[\n",
    "    (merged_df['model'] == \"macemp0b_large_atomic\") &\n",
    "    (~merged_df['info.mofid.topology'].isin([\"ERROR,UNKNOWN\", \"MISMATCH\"]))\n",
    "]\n",
    "\n",
    "plt.figure(figsize=(12, 6))\n",
    "merged_df.groupby('info.mofid.topology')['mae_energy_per_atom'].mean().sort_values()[::5].plot(kind='bar', color='skyblue')\n",
    "plt.ylabel('Energy MAE per Atom (eV)')\n",
    "plt.xlabel('MOF Topology')\n",
    "plt.xticks(rotation=45, ha='right')\n",
    "plt.tight_layout()\n",
    "plt.show()"
   ]
  },
  {
   "cell_type": "markdown",
   "metadata": {},
   "source": [
    "Compute Oxidation states of the highest error MOF energies"
   ]
  },
  {
   "cell_type": "code",
   "execution_count": null,
   "metadata": {},
   "outputs": [],
   "source": [
    "outliers, inliers = analyzer.filter_outliers(qmof_props)"
   ]
  },
  {
   "cell_type": "code",
   "execution_count": null,
   "metadata": {},
   "outputs": [],
   "source": [
    "from pymatgen.analysis.bond_valence import BVAnalyzer\n",
    "from collections import Counter\n",
    "for model in models:\n",
    "    if model == \"pbe_energy\":\n",
    "        continue\n",
    "    model_atomic = model + \"_atomic\"\n",
    "    outliers_model = outliers[outliers[\"model\"] == model_atomic]\n",
    "\n",
    "    bva = BVAnalyzer()\n",
    "    metal_oxidations = []\n",
    "\n",
    "    for index, row in tqdm(outliers_model.iterrows(), total=outliers_model.shape[0], desc=\"Processing\"):\n",
    "        qmof_id_st = row.name \n",
    "        try:\n",
    "            qmof_st = next((item for item in qmof_struct_completed if item['qmof_id'] == qmof_id_st), None)\n",
    "            if qmof_st is None:\n",
    "                print(f\"Structure not found for {qmof_id_st}\")\n",
    "                continue\n",
    "\n",
    "            extract_st = qmof_st[\"structure\"]\n",
    "            struct = Structure.from_dict(extract_st)\n",
    "\n",
    "            oxi_list = bva.get_valences(struct)\n",
    "            struct.add_oxidation_state_by_site(oxi_list)\n",
    "            metal_info = [\n",
    "                (site.species_string, oxi_list[i])\n",
    "                for i, site in enumerate(struct) if site.specie.is_metal\n",
    "            ]\n",
    "            metal_oxidations.append((qmof_id_st, metal_info))\n",
    "\n",
    "        except Exception as exc:\n",
    "            continue\n",
    "\n",
    "    unique_metal_oxidations = []\n",
    "    for qmof_id, metal_info in metal_oxidations:\n",
    "        unique_info = list(set(metal_info))\n",
    "        unique_metal_oxidations.append((qmof_id, unique_info))\n",
    "\n",
    "    all_unique_metal_info = [info for _, metal_info in unique_metal_oxidations for info in metal_info]\n",
    "\n",
    "    counter = Counter(all_unique_metal_info)\n",
    "\n",
    "    species_oxidation_pairs_sorted = sorted(\n",
    "        counter.keys(), key=lambda x: (x[0], x[1])\n",
    "    )\n",
    "    counts_sorted = [counter[pair] for pair in species_oxidation_pairs_sorted]\n",
    "\n",
    "    xtick_labels = [\n",
    "        f\"{sp.rstrip('0123456789+-')} ({ox}{'+' if ox > 0 else '-'})\"\n",
    "        for sp, ox in species_oxidation_pairs_sorted \n",
    "    ]\n",
    "\n",
    "    plt.figure(figsize=(12, 6))\n",
    "    plt.bar(range(len(counts_sorted)), counts_sorted, tick_label=xtick_labels)\n",
    "    plt.xticks(rotation=90)\n",
    "    plt.xlabel(\"Metal Species and Oxidation State\")\n",
    "    plt.ylabel(\"Count\")\n",
    "    plt.title(f\"Histogram of Metal Species and Oxidation States in MOF Structures {model}\")\n",
    "    plt.xticks(rotation=45, ha='right')\n",
    "    plt.show()"
   ]
  }
 ],
 "metadata": {
  "kernelspec": {
   "display_name": "material_project",
   "language": "python",
   "name": "python3"
  },
  "language_info": {
   "codemirror_mode": {
    "name": "ipython",
    "version": 3
   },
   "file_extension": ".py",
   "mimetype": "text/x-python",
   "name": "python",
   "nbconvert_exporter": "python",
   "pygments_lexer": "ipython3",
   "version": "3.12.2"
  }
 },
 "nbformat": 4,
 "nbformat_minor": 2
}
